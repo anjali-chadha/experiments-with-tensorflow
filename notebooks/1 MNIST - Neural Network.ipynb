{
 "cells": [
  {
   "cell_type": "markdown",
   "metadata": {},
   "source": [
    "# Digit Recognizer (Keras)\n",
    "\n",
    "1. Data Exploration\n",
    "    1. Load Data\n",
    "    2. Visualizing the number of training examples per label\n",
    "    3. Reshape\n",
    "    4. Normalization\n",
    "    5. Label Encoding\n",
    "2. Training the model\n",
    "    1. Simple Neural Network\n",
    "    2. CNN\n",
    "    3. Large CNN\n",
    "        1. Network Arhcitecture\n",
    "        2. Data Augmentation\n",
    "        3. Slowing down learning rate\n",
    "3. Evaluate the model\n",
    "    1. Training and Validation Curves\n",
    "    2. Incorrectly classified examples\n",
    "\n",
    "## Part 1. Data Exploration"
   ]
  },
  {
   "cell_type": "code",
   "execution_count": 2,
   "metadata": {},
   "outputs": [
    {
     "name": "stderr",
     "output_type": "stream",
     "text": [
      "/scratch/user/achadha7/.conda/envs/ML/lib/python3.6/site-packages/h5py/__init__.py:36: FutureWarning: Conversion of the second argument of issubdtype from `float` to `np.floating` is deprecated. In future, it will be treated as `np.float64 == np.dtype(float).type`.\n",
      "  from ._conv import register_converters as _register_converters\n",
      "Using TensorFlow backend.\n"
     ]
    }
   ],
   "source": [
    "# Imports\n",
    "from keras.datasets import mnist\n",
    "import matplotlib.pyplot as plt\n",
    "import seaborn as sns\n",
    "import numpy as np\n",
    "from collections import Counter\n",
    "\n",
    "from keras.models import Sequential\n",
    "from keras.layers import Dense\n",
    "from keras.utils import np_utils\n",
    "\n",
    "\n",
    "%matplotlib inline"
   ]
  },
  {
   "cell_type": "markdown",
   "metadata": {},
   "source": [
    "### 1.1 Load data"
   ]
  },
  {
   "cell_type": "code",
   "execution_count": 3,
   "metadata": {},
   "outputs": [],
   "source": [
    "# Download the MNIST data\n",
    "(X_train, y_train), (X_test, y_test) = mnist.load_data()"
   ]
  },
  {
   "cell_type": "code",
   "execution_count": 4,
   "metadata": {},
   "outputs": [
    {
     "name": "stdout",
     "output_type": "stream",
     "text": [
      "Shape of X_train: (60000, 28, 28)\n",
      "Shape of y_train: (60000,)\n",
      "\n",
      "Number of training samples: 60000\n",
      "Number of testing samples: 10000\n"
     ]
    }
   ],
   "source": [
    "print(\"Shape of X_train: {0}\".format(X_train.shape))\n",
    "print(\"Shape of y_train: {0}\".format(y_train.shape))\n",
    "print(\"\")\n",
    "print(\"Number of training samples: {0}\".format(X_train.shape[0]))\n",
    "print(\"Number of testing samples: {0}\".format(X_test.shape[0]))"
   ]
  },
  {
   "cell_type": "code",
   "execution_count": 5,
   "metadata": {},
   "outputs": [
    {
     "name": "stdout",
     "output_type": "stream",
     "text": [
      "uint8\n",
      "(28, 28)\n"
     ]
    }
   ],
   "source": [
    "print(X_train.dtype)\n",
    "print(X_train[4559].shape)"
   ]
  },
  {
   "cell_type": "markdown",
   "metadata": {},
   "source": [
    "View some images present in the training dataset"
   ]
  },
  {
   "cell_type": "code",
   "execution_count": 6,
   "metadata": {},
   "outputs": [
    {
     "data": {
      "text/plain": [
       "<function matplotlib.pyplot.show(*args, **kw)>"
      ]
     },
     "execution_count": 6,
     "metadata": {},
     "output_type": "execute_result"
    },
    {
     "data": {
      "image/png": "[encoded data removed]",
      "text/plain": [
       "<Figure size 432x288 with 4 Axes>"
      ]
     },
     "metadata": {},
     "output_type": "display_data"
    }
   ],
   "source": [
    "plt.subplot(221)\n",
    "plt.imshow(X_train[1],cmap='gray')\n",
    "plt.subplot(222)\n",
    "plt.imshow(X_train[100])\n",
    "plt.subplot(223)\n",
    "plt.imshow(X_train[4559])\n",
    "plt.subplot(224)\n",
    "plt.imshow(X_train[50000])\n",
    "plt.show"
   ]
  },
  {
   "cell_type": "markdown",
   "metadata": {},
   "source": [
    "### 1.2 Visualizing the number of training examples per label"
   ]
  },
  {
   "cell_type": "code",
   "execution_count": 7,
   "metadata": {},
   "outputs": [
    {
     "name": "stdout",
     "output_type": "stream",
     "text": [
      "Number of training examples per class:\n"
     ]
    },
    {
     "data": {
      "text/plain": [
       "Counter({5: 5421,\n",
       "         0: 5923,\n",
       "         4: 5842,\n",
       "         1: 6742,\n",
       "         9: 5949,\n",
       "         2: 5958,\n",
       "         3: 6131,\n",
       "         6: 5918,\n",
       "         7: 6265,\n",
       "         8: 5851})"
      ]
     },
     "execution_count": 7,
     "metadata": {},
     "output_type": "execute_result"
    }
   ],
   "source": [
    "train_labels_count = Counter(y_train)\n",
    "print(\"Number of training examples per class:\")\n",
    "train_labels_count"
   ]
  },
  {
   "cell_type": "code",
   "execution_count": 8,
   "metadata": {},
   "outputs": [
    {
     "data": {
      "text/plain": [
       "<matplotlib.axes._subplots.AxesSubplot at 0x7fd2e8e9de10>"
      ]
     },
     "execution_count": 8,
     "metadata": {},
     "output_type": "execute_result"
    },
    {
     "data": {
      "image/png": "[encoded data removed]",
      "text/plain": [
       "<Figure size 432x288 with 1 Axes>"
      ]
     },
     "metadata": {},
     "output_type": "display_data"
    }
   ],
   "source": [
    "sns.countplot(y_train)"
   ]
  },
  {
   "cell_type": "markdown",
   "metadata": {},
   "source": [
    " ### 1.3 Reshape\n",
    " Flatten 28*28 images to a 784 vector for each image"
   ]
  },
  {
   "cell_type": "code",
   "execution_count": 9,
   "metadata": {},
   "outputs": [],
   "source": [
    "train_count = X_train.shape[0]\n",
    "test_count = X_test.shape[0]\n",
    "num_pixels = X_train.shape[1] * X_train.shape[2]\n",
    "X_train = X_train.reshape(train_count, -1).astype('float32')\n",
    "X_test = X_test.reshape(test_count, -1).astype('float32')"
   ]
  },
  {
   "cell_type": "markdown",
   "metadata": {},
   "source": [
    "### 1.4 Normalize the data from 0-255 to 0-1"
   ]
  },
  {
   "cell_type": "code",
   "execution_count": 10,
   "metadata": {},
   "outputs": [],
   "source": [
    "X_train = X_train/255\n",
    "X_test = X_test/255"
   ]
  },
  {
   "cell_type": "markdown",
   "metadata": {},
   "source": [
    "### 1.5 Label Encoding\n",
    "Since this is a multi-class classification problem, use one-hot encoding of the class values.\n",
    "Transforming the vector of class integers into a binary matrix"
   ]
  },
  {
   "cell_type": "code",
   "execution_count": 11,
   "metadata": {},
   "outputs": [
    {
     "name": "stdout",
     "output_type": "stream",
     "text": [
      "Number of labels: 10\n"
     ]
    }
   ],
   "source": [
    "y_train = np_utils.to_categorical(y_train)\n",
    "y_test = np_utils.to_categorical(y_test)\n",
    "num_classes = y_test.shape[1]\n",
    "print(\"Number of labels: {0}\".format(num_classes))"
   ]
  },
  {
   "cell_type": "markdown",
   "metadata": {},
   "source": [
    "## Part 2: Training the model\n",
    "### 2.1 Simple Neural Network\n",
    "* One hidden layer\n",
    "* Number of neurons same as number of inputs (784)\n",
    "* ReLU used for hidden layer.\n",
    "* Softmax activation function for output layer\n",
    "* Loss function - Logarithmic loss (categorical_crossentropy in Keras)\n",
    "* Learning Algorithm - ADAM gradient descent to learn the weights"
   ]
  },
  {
   "cell_type": "code",
   "execution_count": 12,
   "metadata": {},
   "outputs": [],
   "source": [
    "def simple_nn():\n",
    "    # Create model\n",
    "    model = Sequential()\n",
    "    model.add(Dense(num_pixels, input_dim=num_pixels, init='normal', activation='relu'))\n",
    "    model.add(Dense(num_classes, kernel_initializer='normal', activation='softmax'))\n",
    "    # Compile model\n",
    "    model.compile(loss='categorical_crossentropy', optimizer='adam', metrics=['accuracy'])\n",
    "    return model"
   ]
  },
  {
   "cell_type": "code",
   "execution_count": 13,
   "metadata": {},
   "outputs": [
    {
     "name": "stdout",
     "output_type": "stream",
     "text": [
      "_________________________________________________________________\n",
      "Layer (type)                 Output Shape              Param #   \n",
      "=================================================================\n",
      "dense_1 (Dense)              (None, 784)               615440    \n",
      "_________________________________________________________________\n",
      "dense_2 (Dense)              (None, 10)                7850      \n",
      "=================================================================\n",
      "Total params: 623,290\n",
      "Trainable params: 623,290\n",
      "Non-trainable params: 0\n",
      "_________________________________________________________________\n"
     ]
    },
    {
     "name": "stderr",
     "output_type": "stream",
     "text": [
      "/scratch/user/achadha7/.conda/envs/ML/lib/python3.6/site-packages/ipykernel/__main__.py:4: UserWarning: Update your `Dense` call to the Keras 2 API: `Dense(784, input_dim=784, activation=\"relu\", kernel_initializer=\"normal\")`\n"
     ]
    }
   ],
   "source": [
    "# Build the model\n",
    "simple_nn_model = simple_nn()\n",
    "simple_nn_model.summary()"
   ]
  },
  {
   "cell_type": "code",
   "execution_count": 16,
   "metadata": {},
   "outputs": [
    {
     "name": "stdout",
     "output_type": "stream",
     "text": [
      "Train on 60000 samples, validate on 10000 samples\n",
      "Epoch 1/10\n",
      " - 1s - loss: 0.0060 - acc: 0.9990 - val_loss: 0.0561 - val_acc: 0.9825\n",
      "Epoch 2/10\n",
      " - 1s - loss: 0.0055 - acc: 0.9989 - val_loss: 0.0642 - val_acc: 0.9817\n",
      "Epoch 3/10\n",
      " - 1s - loss: 0.0040 - acc: 0.9994 - val_loss: 0.0596 - val_acc: 0.9833\n",
      "Epoch 4/10\n",
      " - 1s - loss: 0.0027 - acc: 0.9997 - val_loss: 0.0601 - val_acc: 0.9832\n",
      "Epoch 5/10\n",
      " - 1s - loss: 0.0014 - acc: 1.0000 - val_loss: 0.0585 - val_acc: 0.9842\n",
      "Epoch 6/10\n",
      " - 1s - loss: 9.0390e-04 - acc: 1.0000 - val_loss: 0.0599 - val_acc: 0.9838\n",
      "Epoch 7/10\n",
      " - 1s - loss: 7.0662e-04 - acc: 1.0000 - val_loss: 0.0590 - val_acc: 0.9846\n",
      "Epoch 8/10\n",
      " - 1s - loss: 6.9196e-04 - acc: 1.0000 - val_loss: 0.0652 - val_acc: 0.9827\n",
      "Epoch 9/10\n",
      " - 1s - loss: 0.0247 - acc: 0.9920 - val_loss: 0.0763 - val_acc: 0.9804\n",
      "Epoch 10/10\n",
      " - 1s - loss: 0.0066 - acc: 0.9981 - val_loss: 0.0605 - val_acc: 0.9848\n",
      "Testing Error: 1.52%\n"
     ]
    }
   ],
   "source": [
    "# Fit the model\n",
    "simple_nn_model.fit(X_train, y_train, validation_data=(X_test, y_test), epochs=10, batch_size=200, verbose=2)\n",
    "# Final evaluation of the model\n",
    "scores = simple_nn_model.evaluate(X_test, y_test, verbose=2)"
   ]
  },
  {
   "cell_type": "markdown",
   "metadata": {},
   "source": [
    "### Performance:\n",
    "* Training data accuracy = 99.81%\n",
    "* Testing data accuracy = 98.48%\n",
    "* Testing data error = 1.52%"
   ]
  },
  {
   "cell_type": "markdown",
   "metadata": {},
   "source": [
    "### 2.2 CNN\n",
    "* To train the model with CNN, we need to reshape the dataset.\n",
    "* Layers used for 2-dimension convolutions expect dimensions (number of channels, width, height)\n",
    "* For grayscale images, number of channels 1\n",
    "\n",
    "### Network Architecture\n",
    "1. First hidden layer - convolutional layer - Convolution2D\n",
    "    * Has 32 feature maps\n",
    "    * Filters size 5* 5\n",
    "    * ReLu Activation function\n",
    "    * Input Layer\n",
    "2. Pooling Layer - Takes max\n",
    "    * MaxPooling2D\n",
    "    * Pool Size 2 * 2\n",
    "3. Dropout - Regularization layer\\\n",
    "    * Randomly exclude 20% of neurons in the layer to prevent overfitting\n",
    "4. Flatten - Converts the 2D matrix dataq to vector\n",
    "* Fully Connected Layer \n",
    "    * 128 neurons\n",
    "    * ReLU Activation function\n",
    "5. Output Layer\n",
    "    * 10 neurons\n",
    "    * 10 classes\n",
    "    * Softmax activation function\n",
    "\n",
    "Using:\n",
    "* Logarithmic loss\n",
    "* Adam gradient descent"
   ]
  },
  {
   "cell_type": "code",
   "execution_count": 21,
   "metadata": {},
   "outputs": [],
   "source": [
    "from keras.layers import Dropout\n",
    "from keras.layers import Flatten\n",
    "from keras.layers.convolutional import Conv2D\n",
    "from keras.layers.convolutional import MaxPooling2D\n",
    "from keras import backend as K\n",
    "from keras.callbacks import ReduceLROnPlateau\n",
    "from keras.preprocessing.image import ImageDataGenerator\n",
    "K.set_image_dim_ordering('th')"
   ]
  },
  {
   "cell_type": "code",
   "execution_count": 22,
   "metadata": {},
   "outputs": [],
   "source": [
    "X_train = X_train.reshape(train_count, 1, 28, 28).astype('float32')\n",
    "X_test = X_test.reshape(test_count, 1, 28, 28).astype('float32')"
   ]
  },
  {
   "cell_type": "code",
   "execution_count": 23,
   "metadata": {},
   "outputs": [],
   "source": [
    "def cnn_model():\n",
    "    # create model\n",
    "    model = Sequential()\n",
    "    model.add(Conv2D(32, (5, 5), input_shape=(1, 28, 28), activation='relu'))\n",
    "    model.add(MaxPooling2D(pool_size=(2,2)))\n",
    "    model.add(Dropout(0.2))\n",
    "    model.add(Flatten())\n",
    "    model.add(Dense(128, activation='relu'))\n",
    "    model.add(Dense(num_classes, activation='softmax'))\n",
    "    \n",
    "    # compile model\n",
    "    model.compile(loss='categorical_crossentropy', optimizer='adam', metrics=['accuracy'])\n",
    "    return model"
   ]
  },
  {
   "cell_type": "code",
   "execution_count": 24,
   "metadata": {},
   "outputs": [
    {
     "name": "stdout",
     "output_type": "stream",
     "text": [
      "_________________________________________________________________\n",
      "Layer (type)                 Output Shape              Param #   \n",
      "=================================================================\n",
      "conv2d_1 (Conv2D)            (None, 32, 24, 24)        832       \n",
      "_________________________________________________________________\n",
      "max_pooling2d_1 (MaxPooling2 (None, 32, 12, 12)        0         \n",
      "_________________________________________________________________\n",
      "dropout_1 (Dropout)          (None, 32, 12, 12)        0         \n",
      "_________________________________________________________________\n",
      "flatten_1 (Flatten)          (None, 4608)              0         \n",
      "_________________________________________________________________\n",
      "dense_3 (Dense)              (None, 128)               589952    \n",
      "_________________________________________________________________\n",
      "dense_4 (Dense)              (None, 10)                1290      \n",
      "=================================================================\n",
      "Total params: 592,074\n",
      "Trainable params: 592,074\n",
      "Non-trainable params: 0\n",
      "_________________________________________________________________\n"
     ]
    }
   ],
   "source": [
    "# Build the model\n",
    "cn_model = cnn_model()\n",
    "cn_model.summary()"
   ]
  },
  {
   "cell_type": "markdown",
   "metadata": {},
   "source": [
    "* Run for 10 epochs\n",
    "* Batch size 200"
   ]
  },
  {
   "cell_type": "code",
   "execution_count": 25,
   "metadata": {},
   "outputs": [
    {
     "name": "stdout",
     "output_type": "stream",
     "text": [
      "Train on 60000 samples, validate on 10000 samples\n",
      "Epoch 1/10\n",
      " - 4s - loss: 0.2489 - acc: 0.9288 - val_loss: 0.0831 - val_acc: 0.9732\n",
      "Epoch 2/10\n",
      " - 3s - loss: 0.0781 - acc: 0.9773 - val_loss: 0.0556 - val_acc: 0.9818\n",
      "Epoch 3/10\n",
      " - 3s - loss: 0.0528 - acc: 0.9839 - val_loss: 0.0430 - val_acc: 0.9852\n",
      "Epoch 4/10\n",
      " - 3s - loss: 0.0429 - acc: 0.9868 - val_loss: 0.0363 - val_acc: 0.9868\n",
      "Epoch 5/10\n",
      " - 3s - loss: 0.0339 - acc: 0.9892 - val_loss: 0.0343 - val_acc: 0.9885\n",
      "Epoch 6/10\n",
      " - 3s - loss: 0.0299 - acc: 0.9906 - val_loss: 0.0309 - val_acc: 0.9899\n",
      "Epoch 7/10\n",
      " - 3s - loss: 0.0245 - acc: 0.9926 - val_loss: 0.0372 - val_acc: 0.9871\n",
      "Epoch 8/10\n",
      " - 3s - loss: 0.0214 - acc: 0.9929 - val_loss: 0.0312 - val_acc: 0.9894\n",
      "Epoch 9/10\n",
      " - 3s - loss: 0.0175 - acc: 0.9945 - val_loss: 0.0331 - val_acc: 0.9889\n",
      "Epoch 10/10\n",
      " - 3s - loss: 0.0146 - acc: 0.9951 - val_loss: 0.0326 - val_acc: 0.9888\n",
      "CNN error: 1.120000%\n"
     ]
    }
   ],
   "source": [
    "# Fit the model\n",
    "cn_model.fit(X_train, y_train, validation_data=(X_test, y_test), epochs=10, batch_size=200, verbose=2)\n",
    "scores = cn_model.evaluate(X_test, y_test, verbose=2)\n",
    "print(\"CNN error: %2f%%\" % (100-scores[1]*100))"
   ]
  },
  {
   "cell_type": "markdown",
   "metadata": {},
   "source": [
    "### Performance\n",
    "* Training Data accuracy - 99.51%\n",
    "* Testing Data Accuracy - 98.88\n",
    "* Testing Data error - 1.12%"
   ]
  },
  {
   "cell_type": "markdown",
   "metadata": {},
   "source": [
    "### 2.3 Larger CNN\n",
    "\n",
    "### 2.3.1 Network Architecture\n",
    "1. Convolutional Layer\n",
    "    * 30 feature maps\n",
    "    * Size 5 by 5\n",
    "2. Pooling Layer\n",
    "    * Max\n",
    "    * 2 by 2 patches\n",
    "3. Convolutional Layer\n",
    "    * Feature Maps 15\n",
    "    * Size 3 by 3\n",
    "4. Pooling Layer\n",
    "    * Max\n",
    "    * 2 by 2 patches\n",
    "5. Dropout layer with probablity of 20%\n",
    "6. Flatten layer\n",
    "7. FC layer - 128 neurons; ReLU\n",
    "8. FC layer - 50 neurons; ReLU\n",
    "9. Output Layer"
   ]
  },
  {
   "cell_type": "code",
   "execution_count": 26,
   "metadata": {},
   "outputs": [],
   "source": [
    "def cnn_large_model():\n",
    "    # create model\n",
    "    model=Sequential()\n",
    "    model.add(Conv2D(30, (5, 5), input_shape=(1,28,28), activation='relu'))\n",
    "    model.add(MaxPooling2D(pool_size=(2,2)))\n",
    "    model.add(Conv2D(15, (3,3), activation='relu'))\n",
    "    model.add(MaxPooling2D(pool_size=(2,2)))\n",
    "    model.add(Dropout(0.2))\n",
    "    model.add(Flatten())\n",
    "    model.add(Dense(128, activation='relu'))\n",
    "    model.add(Dense(50, activation='relu'))\n",
    "    model.add(Dense(num_classes, activation='softmax'))\n",
    "    \n",
    "    # compile model\n",
    "    model.compile(loss='categorical_crossentropy', optimizer='adam', metrics=['accuracy'])\n",
    "    return model"
   ]
  },
  {
   "cell_type": "markdown",
   "metadata": {},
   "source": [
    "### 2.3.2 Reducing Learning Rate\n",
    "Setting a callback to reduce learning rate when val_acc has stopped improving"
   ]
  },
  {
   "cell_type": "code",
   "execution_count": 31,
   "metadata": {},
   "outputs": [],
   "source": [
    "learning_rate_reduction = ReduceLROnPlateau(monitor='val_acc',\n",
    "                                           patience=3,\n",
    "                                           verbose=2,\n",
    "                                           factor=0.5,\n",
    "                                           min_lr=0.00001)\n",
    "epochs=25\n",
    "batch_size=150"
   ]
  },
  {
   "cell_type": "markdown",
   "metadata": {},
   "source": [
    "### 2.3.3 Data Augmentation\n",
    "* Randomly rotate some training images by 10 degrees\n",
    "* Randomly Zoom by 10% some training images\n",
    "* Randomly shift images horizontally by 10% of the width\n",
    "* Randomly shift images vertically by 10% of the height"
   ]
  },
  {
   "cell_type": "code",
   "execution_count": 28,
   "metadata": {},
   "outputs": [],
   "source": [
    "datagen = ImageDataGenerator(\n",
    "        featurewise_center=False, # set input mean to 0 over the dataset\n",
    "        samplewise_center=False, # set each sample mean to 0\n",
    "        featurewise_std_normalization=False, # divide inputs by std of \n",
    "        samplewise_std_normalization=False, # divide each input by its std\n",
    "        zca_whitening=False, # apply ZCA whitening\n",
    "        rotation_range=10, # randomly rotate images in the range\n",
    "        zoom_range=0.1, # randomly zoom image\n",
    "        width_shift_range=0.1, #Randomly shift images horizontally\n",
    "        height_shift_range=0.1, # Randomly shift images vertically\n",
    "        horizontal_flip=False, # Randomly flip images\n",
    "        vertical_flip=False)\n",
    "\n",
    "datagen.fit(X_train)"
   ]
  },
  {
   "cell_type": "code",
   "execution_count": 29,
   "metadata": {},
   "outputs": [
    {
     "name": "stdout",
     "output_type": "stream",
     "text": [
      "_________________________________________________________________\n",
      "Layer (type)                 Output Shape              Param #   \n",
      "=================================================================\n",
      "conv2d_2 (Conv2D)            (None, 30, 24, 24)        780       \n",
      "_________________________________________________________________\n",
      "max_pooling2d_2 (MaxPooling2 (None, 30, 12, 12)        0         \n",
      "_________________________________________________________________\n",
      "conv2d_3 (Conv2D)            (None, 15, 10, 10)        4065      \n",
      "_________________________________________________________________\n",
      "max_pooling2d_3 (MaxPooling2 (None, 15, 5, 5)          0         \n",
      "_________________________________________________________________\n",
      "dropout_2 (Dropout)          (None, 15, 5, 5)          0         \n",
      "_________________________________________________________________\n",
      "flatten_2 (Flatten)          (None, 375)               0         \n",
      "_________________________________________________________________\n",
      "dense_5 (Dense)              (None, 128)               48128     \n",
      "_________________________________________________________________\n",
      "dense_6 (Dense)              (None, 50)                6450      \n",
      "_________________________________________________________________\n",
      "dense_7 (Dense)              (None, 10)                510       \n",
      "=================================================================\n",
      "Total params: 59,933\n",
      "Trainable params: 59,933\n",
      "Non-trainable params: 0\n",
      "_________________________________________________________________\n"
     ]
    }
   ],
   "source": [
    "# build the model\n",
    "large_model = cnn_large_model()\n",
    "large_model.summary()"
   ]
  },
  {
   "cell_type": "code",
   "execution_count": 32,
   "metadata": {
    "scrolled": true
   },
   "outputs": [
    {
     "name": "stdout",
     "output_type": "stream",
     "text": [
      "Epoch 1/25\n",
      " - 9s - loss: 0.2019 - acc: 0.9381 - val_loss: 0.0482 - val_acc: 0.9842\n",
      "Epoch 2/25\n",
      " - 9s - loss: 0.1450 - acc: 0.9554 - val_loss: 0.0489 - val_acc: 0.9844\n",
      "Epoch 3/25\n",
      " - 9s - loss: 0.1136 - acc: 0.9655 - val_loss: 0.0522 - val_acc: 0.9833\n",
      "Epoch 4/25\n",
      " - 9s - loss: 0.1013 - acc: 0.9686 - val_loss: 0.0295 - val_acc: 0.9900\n",
      "Epoch 5/25\n",
      " - 9s - loss: 0.0874 - acc: 0.9733 - val_loss: 0.0308 - val_acc: 0.9894\n",
      "Epoch 6/25\n",
      " - 9s - loss: 0.0837 - acc: 0.9743 - val_loss: 0.0283 - val_acc: 0.9903\n",
      "Epoch 7/25\n",
      " - 9s - loss: 0.0714 - acc: 0.9774 - val_loss: 0.0227 - val_acc: 0.9916\n",
      "Epoch 8/25\n",
      " - 9s - loss: 0.0718 - acc: 0.9776 - val_loss: 0.0280 - val_acc: 0.9905\n",
      "Epoch 9/25\n",
      " - 10s - loss: 0.0675 - acc: 0.9795 - val_loss: 0.0248 - val_acc: 0.9909\n",
      "Epoch 10/25\n",
      " - 9s - loss: 0.0611 - acc: 0.9810 - val_loss: 0.0242 - val_acc: 0.9916\n",
      "Epoch 11/25\n",
      " - 10s - loss: 0.0601 - acc: 0.9812 - val_loss: 0.0228 - val_acc: 0.9928\n",
      "Epoch 12/25\n",
      " - 10s - loss: 0.0580 - acc: 0.9814 - val_loss: 0.0241 - val_acc: 0.9912\n",
      "Epoch 13/25\n",
      " - 9s - loss: 0.0559 - acc: 0.9822 - val_loss: 0.0214 - val_acc: 0.9922\n",
      "Epoch 14/25\n",
      " - 9s - loss: 0.0528 - acc: 0.9835 - val_loss: 0.0209 - val_acc: 0.9934\n",
      "Epoch 15/25\n",
      " - 9s - loss: 0.0506 - acc: 0.9838 - val_loss: 0.0248 - val_acc: 0.9912\n",
      "Epoch 16/25\n",
      " - 10s - loss: 0.0501 - acc: 0.9844 - val_loss: 0.0199 - val_acc: 0.9931\n",
      "Epoch 17/25\n",
      " - 9s - loss: 0.0494 - acc: 0.9843 - val_loss: 0.0202 - val_acc: 0.9927\n",
      "Epoch 18/25\n",
      " - 9s - loss: 0.0459 - acc: 0.9857 - val_loss: 0.0208 - val_acc: 0.9939\n",
      "Epoch 19/25\n",
      " - 9s - loss: 0.0465 - acc: 0.9858 - val_loss: 0.0213 - val_acc: 0.9926\n",
      "Epoch 20/25\n",
      " - 9s - loss: 0.0451 - acc: 0.9862 - val_loss: 0.0265 - val_acc: 0.9902\n",
      "Epoch 21/25\n",
      " - 9s - loss: 0.0444 - acc: 0.9858 - val_loss: 0.0177 - val_acc: 0.9937\n",
      "Epoch 22/25\n",
      " - 10s - loss: 0.0440 - acc: 0.9861 - val_loss: 0.0190 - val_acc: 0.9944\n",
      "Epoch 23/25\n",
      " - 9s - loss: 0.0420 - acc: 0.9866 - val_loss: 0.0248 - val_acc: 0.9921\n",
      "Epoch 24/25\n",
      " - 9s - loss: 0.0424 - acc: 0.9867 - val_loss: 0.0200 - val_acc: 0.9933\n",
      "Epoch 25/25\n",
      " - 9s - loss: 0.0403 - acc: 0.9877 - val_loss: 0.0221 - val_acc: 0.9931\n"
     ]
    }
   ],
   "source": [
    "# Fit the mode\n",
    "history = large_model.fit_generator(datagen.flow(X_train, y_train, batch_size=batch_size),\n",
    "                validation_data=(X_test, y_test), epochs=epochs\n",
    "               , verbose=2,\n",
    "                callbacks=[learning_rate_reduction])\n"
   ]
  },
  {
   "cell_type": "code",
   "execution_count": 39,
   "metadata": {},
   "outputs": [
    {
     "name": "stdout",
     "output_type": "stream",
     "text": [
      "Large CNN error: 0.53%\n"
     ]
    }
   ],
   "source": [
    "# Evaluate the model\n",
    "scores = large_model.evaluate(X_test, y_test, verbose=2)\n",
    "print(\"Large CNN error: %.2f%%\" % (100-scores[1]*100))"
   ]
  },
  {
   "cell_type": "markdown",
   "metadata": {},
   "source": [
    "### Performance:\n",
    "* Training data accuracy - 98.77%\n",
    "* Testing data accuracy - 99.31%\n",
    "* Testing data error - 0.53%"
   ]
  },
  {
   "cell_type": "markdown",
   "metadata": {},
   "source": [
    "## Part 3: Evaluate the model\n",
    "\n",
    "### 3.1 Training and Validation Curves "
   ]
  },
  {
   "cell_type": "code",
   "execution_count": 33,
   "metadata": {
    "scrolled": true
   },
   "outputs": [
    {
     "data": {
      "image/png": "[encoded data removed]",
      "text/plain": [
       "<Figure size 432x288 with 2 Axes>"
      ]
     },
     "metadata": {},
     "output_type": "display_data"
    }
   ],
   "source": [
    "fig, ax = plt.subplots(2,1)\n",
    "ax[0].plot(history.history['loss'], color='b', label=\"Training Loss\")\n",
    "ax[0].plot(history.history['val_loss'], color='r', label=\"Validation Loss\", axes=ax[0])\n",
    "legend=ax[0].legend(loc='best', shadow=True)\n",
    "\n",
    "ax[1].plot(history.history['acc'], color='b', label=\"Training accuracy\")\n",
    "ax[1].plot(history.history['val_acc'], color='r', label=\"Validation accuracy\", axes=ax[1])\n",
    "legend=ax[1].legend(loc='best', shadow=True)\n"
   ]
  },
  {
   "cell_type": "markdown",
   "metadata": {},
   "source": [
    "### 3.2 Investigate errors"
   ]
  },
  {
   "cell_type": "code",
   "execution_count": 36,
   "metadata": {},
   "outputs": [],
   "source": [
    "# predict the values from the test dataset\n",
    "y_pred = large_model.predict(X_test)\n",
    "\n",
    "# convert predictions classes to one hot vectors\n",
    "y_pred_classes = np.argmax(y_pred, axis=1)\n",
    "y_true = np.argmax(y_test, axis=1)\n"
   ]
  },
  {
   "cell_type": "code",
   "execution_count": 37,
   "metadata": {},
   "outputs": [],
   "source": [
    "errors = (y_pred_classes - y_true != 0)\n",
    "y_pred_classes_errors = y_pred_classes[errors]\n",
    "y_pred_errors = y_pred[errors]\n",
    "y_true_errors = y_true[errors]\n",
    "\n",
    "X_test_errors=X_test[errors]"
   ]
  }
 ],
 "metadata": {
  "kernelspec": {
   "display_name": "Python [conda env:ML]",
   "language": "python",
   "name": "conda-env-ML-py"
  }
 },
 "nbformat": 4,
 "nbformat_minor": 2
}
